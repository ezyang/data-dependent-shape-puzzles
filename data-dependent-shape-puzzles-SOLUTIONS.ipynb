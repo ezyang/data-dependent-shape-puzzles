{
  "metadata": {
    "bento_stylesheets": {
      "bento/extensions/flow/main.css": true,
      "bento/extensions/kernel_selector/main.css": true,
      "bento/extensions/kernel_ui/main.css": true,
      "bento/extensions/new_kernel/main.css": true,
      "bento/extensions/system_usage/main.css": true,
      "bento/extensions/theme/main.css": true
    },
    "kernelspec": {
      "name": "bento_kernel_pytorch",
      "display_name": "pytorch",
      "language": "python",
      "metadata": {
        "kernel_name": "bento_kernel_pytorch",
        "nightly_builds": true,
        "fbpkg_supported": true,
        "cinder_runtime": true,
        "is_prebuilt": true,
        "default_tagged_version": "2402",
        "kernel_version": "2402",
        "download_status": "downloaded"
      }
    },
    "language_info": {
      "codemirror_mode": {
        "name": "ipython",
        "version": 3
      },
      "file_extension": ".py",
      "mimetype": "text/x-python",
      "name": "python",
      "nbconvert_exporter": "python",
      "pygments_lexer": "ipython3"
    },
    "last_server_session_id": "9e022210-c4d9-4d3a-b2bd-3fc239847588",
    "last_kernel_id": "266e3c0d-be06-4a10-8b8f-fd728b6d0542",
    "last_base_url": "https://bento.edge.x2p.facebook.net/",
    "last_msg_id": "1e0bdad0-810c99501a9ffd0de9e42bc7_741",
    "outputWidgetContext": {}
  },
  "nbformat": 4,
  "nbformat_minor": 2,
  "cells": [
    {
      "cell_type": "markdown",
      "metadata": {
        "originalKey": "b21a6673-0c05-487a-b638-8d21462ce2b5",
        "showInput": false,
        "customInput": null,
        "language": "markdown",
        "outputsInitialized": false,
        "isAgentGenerated": false
      },
      "source": [
        "When working on compiling or exporting code that has data dependent sizes, it's common to run into GuardOnDataDependentSymNode errors. Unfortunately, if it's the first time you've needed to fix one of these problems, it can be quite difficult to get your bearing in a real world model. The purpose of these puzzlers is to give you some practice fixing GuardOnDataDependentSymNode errors in a controlled setting, so you can get some sense for what works and doesn't and build your mental model.\n",
        "\n",
        "I highly recommend reading [Dealing with GuardOnDataDependentSymNode errors](https://docs.google.com/document/d/1HSuTTVvYH1pTew89Rtpeu84Ht3nQEFTYhAX3Ypa_xJs/edit#heading=h.44gwi83jepaj) document first.  If you have questions or need help, you can reach out to [PT2 Data Dependent Shapes WG](https://fb.workplace.com/groups/6829516587176185)."
      ]
    },
    {
      "cell_type": "code",
      "metadata": {
        "collapsed": false,
        "originalKey": "05ab7c41-0985-4140-856b-2da75a41d0d9",
        "outputsInitialized": false,
        "language": "python",
        "executionStartTime": 1724175455903,
        "executionStopTime": 1724175460911,
        "serverExecutionDuration": 8.793457876890898,
        "requestMsgId": "05ab7c41-0985-4140-856b-2da75a41d0d9",
        "showInput": true,
        "isAgentGenerated": false
      },
      "source": [
        "# pyre-ignore-all-errors\n",
        "\n",
        "import torch\n",
        "import torch._dynamo.config\n",
        "from typing import List, Union, Any\n",
        "from torch import Tensor\n",
        "from torch.fx.experimental.symbolic_shapes import guard_size_oblivious\n",
        "from dataclasses import dataclass\n",
        "import random\n",
        "\n",
        "import sys\n",
        "import traceback\n",
        "import IPython\n",
        "\n",
        "def customshowtraceback(self, *args, **kwargs):\n",
        "    traceback.print_exc()\n",
        "\n",
        "IPython.core.interactiveshell.InteractiveShell.showtraceback = customshowtraceback\n",
        "\n",
        "torch._dynamo.config.capture_scalar_outputs = True\n",
        "torch._dynamo.config.capture_dynamic_output_shape_ops = True\n",
        "\n",
        "TEMPLATE = False\n",
        "MSG = \"🎉 Correct! 🎉\"\n",
        "\n",
        "@dataclass\n",
        "class U:\n",
        "    # Describes an unbacked SymInt whose real value is val, for testing\n",
        "    val: int\n",
        "\n",
        "UnpackedTy = Union[int, U]\n",
        "PackedTy = Union[int, Tensor]\n",
        "\n",
        "def assert_eq(actual, expected):\n",
        "    if isinstance(actual, Tensor) or isinstance(expected, Tensor):\n",
        "        assert isinstance(actual, Tensor), actual\n",
        "        assert isinstance(expected, Tensor), expected\n",
        "        cond = torch.allclose(actual, expected)\n",
        "    elif isinstance(actual, list) or isinstance(expected, list):\n",
        "        assert isinstance(actual, list), actual\n",
        "        assert isinstance(expected, list), expected\n",
        "        for a, e in zip(actual, expected):\n",
        "            assert_eq(a, e)\n",
        "        cond = len(actual) == len(expected)\n",
        "    else:\n",
        "        assert type(actual) == type(expected), (actual, expected)\n",
        "        cond = actual == expected\n",
        "        assert isinstance(cond, bool), (actual, expected)\n",
        "    if not cond:\n",
        "        raise RuntimeError(f\"{actual} != {expected}\")\n",
        "\n",
        "def pack_size(s: UnpackedTy) -> PackedTy:\n",
        "    if isinstance(s, U):\n",
        "        return torch.tensor([s.val, s.val])\n",
        "    else:\n",
        "        return s\n",
        "\n",
        "def pack_sizes(shape: UnpackedTy) -> List[PackedTy]:\n",
        "    return [pack_size(s) for s in shape]\n",
        "\n",
        "# NB: the unpack functions will be Dynamo traced, so they're not really inverses\n",
        "def unpack_size(s: PackedTy) -> int:\n",
        "    if isinstance(s, Tensor):\n",
        "        r = s[0].item()\n",
        "        torch._check_is_size(r)\n",
        "        return r\n",
        "    else:\n",
        "        return s\n",
        "\n",
        "def unpack_sizes(ss: List[PackedTy]) -> List[int]:\n",
        "    return [unpack_size(s) for s in ss]\n",
        "\n",
        "def unpack_tensor(ss: List[PackedTy]) -> Tensor:\n",
        "    return torch.randn(unpack_sizes(ss))\n",
        "\n",
        "def force_guard(x: bool):\n",
        "    if x:\n",
        "        return torch.tensor(True)\n",
        "    else:\n",
        "        return torch.tensor(False)\n",
        "\n",
        "def run_test(fn):\n",
        "    torch._dynamo.reset()\n",
        "    fn()\n",
        "    print(MSG)"
      ],
      "execution_count": 3,
      "outputs": []
    },
    {
      "cell_type": "markdown",
      "metadata": {
        "originalKey": "822a585b-6c96-4d4a-ad0b-e0723dc7d0f3",
        "showInput": false,
        "customInput": null,
        "language": "markdown",
        "outputsInitialized": false,
        "isAgentGenerated": false
      },
      "source": [
        "## Basic symbolic reasoning\n",
        "\n",
        "Here are some basic warmups to test your understanding of [Dealing with GuardOnDataDependentSymNode errors](https://docs.google.com/document/d/1HSuTTVvYH1pTew89Rtpeu84Ht3nQEFTYhAX3Ypa_xJs/edit#heading=h.44gwi83jepaj), and familiarize you with how this notebook is setup.\n",
        "\n",
        "**[check]** Use torch._check to resolve the compile time error below."
      ]
    },
    {
      "cell_type": "code",
      "metadata": {
        "originalKey": "d3b77dc6-f3da-47ca-b4da-511cbce48eac",
        "showInput": true,
        "customInput": null,
        "language": "python",
        "executionStartTime": 1723777232694,
        "executionStopTime": 1723777233047,
        "serverExecutionDuration": 47.27118811570108,
        "collapsed": false,
        "requestMsgId": "d3b77dc6-f3da-47ca-b4da-511cbce48eac",
        "outputsInitialized": true,
        "output": {
          "id": "894137389208139"
        },
        "isAgentGenerated": false
      },
      "source": [
        "@torch.compile(backend=\"eager\", fullgraph=True)\n",
        "def cf_check(x):\n",
        "    u0, u1 = x.tolist()\n",
        "    if TEMPLATE:\n",
        "        pass\n",
        "    else:\n",
        "        torch._check(u0 * 2 == u1 * 3)\n",
        "    # Do not modify the code below here (imagine it's in framework code you can't edit)\n",
        "    # NB: In future exercises, we'll use force_guard as a shorthand for this pattern.\n",
        "    if u0 * 2 == u1 * 3:\n",
        "        return torch.tensor(True)\n",
        "    else:\n",
        "        return torch.tensor(False)\n",
        "\n",
        "@run_test\n",
        "def test_check():\n",
        "    assert cf_check(torch.tensor([12, 8])).item()"
      ],
      "execution_count": 95,
      "outputs": []
    },
    {
      "cell_type": "markdown",
      "metadata": {
        "originalKey": "5cc395a8-1414-4421-ba73-d7f6e37ed254",
        "showInput": false,
        "customInput": null,
        "language": "markdown",
        "outputsInitialized": false,
        "isAgentGenerated": false
      },
      "source": [
        "**[checkand]**  It is best not to use logical conjunction inside `torch._check` operators.  Modify the torch._check below so that compilation passes."
      ]
    },
    {
      "cell_type": "code",
      "metadata": {
        "originalKey": "a1de4e3e-ebd0-47a9-b6fe-1300746787fd",
        "showInput": true,
        "customInput": null,
        "language": "python",
        "executionStartTime": 1723777233056,
        "executionStopTime": 1723777233413,
        "serverExecutionDuration": 46.614102786406875,
        "collapsed": false,
        "requestMsgId": "a1de4e3e-ebd0-47a9-b6fe-1300746787fd",
        "outputsInitialized": true,
        "output": {
          "id": "1911210579392838"
        },
        "isAgentGenerated": false
      },
      "source": [
        "@torch.compile(backend=\"eager\", fullgraph=True)\n",
        "def cf_checkand(x):\n",
        "    u0, u1 = x.tolist()\n",
        "    if TEMPLATE:\n",
        "        torch._check((u0 // 3 == 0) and (u1 // 5 == 0))\n",
        "    else:\n",
        "        torch._check(u0 // 3 == 0)\n",
        "        torch._check(u1 // 5 == 0)\n",
        "    # Do not modify the code below\n",
        "    return force_guard((u0 // 3 == 0) and (u1 // 5 == 0))\n",
        "\n",
        "@run_test\n",
        "def test_checkand():\n",
        "    assert cf_checkand(torch.tensor([2, 4]))"
      ],
      "execution_count": 96,
      "outputs": []
    },
    {
      "cell_type": "markdown",
      "metadata": {
        "originalKey": "e6319303-010e-4212-b8a9-0c41ffe29dd2",
        "showInput": false,
        "customInput": null,
        "language": "markdown",
        "outputsInitialized": false,
        "isAgentGenerated": false
      },
      "source": [
        "**[checksize]** Marking a variable as size-like means we will assume it is `>= 2` inside size oblivious guards, but we will still permit it to have 0/1 value at runtime."
      ]
    },
    {
      "cell_type": "code",
      "metadata": {
        "originalKey": "97e0bc7c-4f42-45d5-96e8-d4de96b12638",
        "showInput": true,
        "customInput": null,
        "language": "python",
        "executionStartTime": 1723777233422,
        "executionStopTime": 1723777233775,
        "serverExecutionDuration": 35.18217499367893,
        "collapsed": false,
        "requestMsgId": "97e0bc7c-4f42-45d5-96e8-d4de96b12638",
        "outputsInitialized": true,
        "output": {
          "id": "689708096686164"
        },
        "isAgentGenerated": false
      },
      "source": [
        "@torch.compile(backend=\"eager\", fullgraph=True)\n",
        "def cf_checksize(x):\n",
        "    u0 = x[0].item()\n",
        "    # For extra credit, mark u0 as size-like WITHOUT explicitly calling torch._check_is_size\n",
        "    if TEMPLATE:\n",
        "        pass\n",
        "    else:\n",
        "        torch._check_is_size(u0)\n",
        "    return force_guard(guard_size_oblivious(u0 != 0))\n",
        "\n",
        "@run_test\n",
        "def test_checksize():\n",
        "    assert cf_checksize(torch.tensor([5, 5])).item()\n",
        "    assert cf_checksize(torch.tensor([0, 0])).item()  # this is true!  You can make some strange things happen if you combine this with torch._check(u0 == 0)"
      ],
      "execution_count": 97,
      "outputs": []
    },
    {
      "cell_type": "markdown",
      "metadata": {
        "originalKey": "e529114a-1119-4c36-8542-a7c5ea5fb5e7",
        "showInput": false,
        "customInput": null,
        "language": "markdown",
        "outputsInitialized": false,
        "isAgentGenerated": false
      },
      "source": [
        "**[implicitsize]** Some APIs do not implicitly specify a size is size-like.  So you may need to explicitly specify it in those situations.  When this is not a bug in PyTorch, this is typically because the API accepts sentinel values like -1 and you have to explicitly indicate that this is not a permitted input."
      ]
    },
    {
      "cell_type": "code",
      "metadata": {
        "originalKey": "53a76faf-6c9d-40f4-a3ae-b946ca332b48",
        "showInput": true,
        "customInput": null,
        "language": "python",
        "executionStartTime": 1723777233781,
        "executionStopTime": 1723777234143,
        "serverExecutionDuration": 69.22093802131712,
        "collapsed": false,
        "requestMsgId": "53a76faf-6c9d-40f4-a3ae-b946ca332b48",
        "outputsInitialized": true,
        "output": {
          "id": "517362727445501"
        },
        "isAgentGenerated": false
      },
      "source": [
        "@torch.compile(backend=\"eager\", fullgraph=True)\n",
        "def cf_implicitsize(x, y):\n",
        "    u0 = x[0].item()\n",
        "    if TEMPLATE:\n",
        "        pass\n",
        "    else:\n",
        "        torch._check_is_size(u0)\n",
        "    torch._check(u0 < y.size(0))\n",
        "    return y[u0]\n",
        "\n",
        "@run_test\n",
        "def test_implicitsize():\n",
        "    assert cf_implicitsize(torch.tensor([2, 2]), torch.randn(10)).item()"
      ],
      "execution_count": 98,
      "outputs": []
    },
    {
      "cell_type": "markdown",
      "metadata": {
        "originalKey": "4610cd31-bcf9-4fbd-bf65-a6c72f47fffa",
        "showInput": false,
        "customInput": null,
        "language": "markdown",
        "outputsInitialized": false,
        "isAgentGenerated": false
      },
      "source": [
        "**[nomemo]** Some APIs in PyTorch accept Tensor directly where int is expected. This results in an implicit item() call. Although sometimes we memoize the returned unbacked SymInts, in general it is better to make sure you call item() once, and use the resulting unbacked SymInt consistently through the rest of the program.  Fix the program below.  Note that the commented `torch._check_is_size` does not work (why?)"
      ]
    },
    {
      "cell_type": "code",
      "metadata": {
        "originalKey": "aaeaa801-a6eb-4c90-92fd-42ff6da4328d",
        "showInput": true,
        "customInput": null,
        "language": "python",
        "executionStartTime": 1723777234150,
        "executionStopTime": 1723777234467,
        "serverExecutionDuration": 41.11830494366586,
        "collapsed": false,
        "requestMsgId": "aaeaa801-a6eb-4c90-92fd-42ff6da4328d",
        "outputsInitialized": true,
        "output": {
          "id": "1987448235010298"
        },
        "isAgentGenerated": false
      },
      "source": [
        "@torch.compile(fullgraph=True, backend=\"eager\")\n",
        "def cf_nomemo(x, y):\n",
        "    if TEMPLATE:\n",
        "        # torch._check_is_size(y[0])\n",
        "        return x.unsqueeze(1).expand(-1, y[0])\n",
        "    else:\n",
        "        u0 = y[0].item()\n",
        "        torch._check_is_size(u0)\n",
        "        return x.unsqueeze(1).expand(-1, u0)\n",
        "\n",
        "@run_test\n",
        "def test_nomemo():\n",
        "    cf_nomemo(torch.randn(8), torch.tensor([2]))"
      ],
      "execution_count": 99,
      "outputs": []
    },
    {
      "cell_type": "markdown",
      "metadata": {
        "originalKey": "325bac6a-49a0-4b6b-8f2e-d46ce57f7064",
        "showInput": false,
        "customInput": null,
        "language": "markdown",
        "outputsInitialized": false,
        "isAgentGenerated": false
      },
      "source": [
        "## What's in a tensor constructor?\n",
        "\n",
        "The very first guards you are likely to encounter with data-dependent shapes are those associated with tensor constructors.  Modern PyTorch has been patched to work with data-dependent shapes; in this section, we reimplement various important functions that are called during tensor construction, to make them data-dependent shape friendly.  If you don't feel comfortable working with strides, consider reading the [PyTorch Internals](http://blog.ezyang.com/2019/05/pytorch-internals/) blog post.  We have already imported `guard_size_oblivious` so that it is in scope."
      ]
    },
    {
      "cell_type": "markdown",
      "metadata": {
        "originalKey": "621cbe5d-b4e0-4e87-ad20-8b4ac08b4898",
        "showInput": false,
        "customInput": null,
        "language": "markdown",
        "outputsInitialized": false,
        "isAgentGenerated": false
      },
      "source": [
        "**[contigstride]**  When you call a constructor like torch.empty() which produces a contiguous tensor, we must compute the contiguous strides for the tensor. Intuitively, the stride of a contiguous tensor is the product of all sizes to the left of it; e.g., a tensor with size `[2, 3, 4]` has stride `[3*4, 4, 1]`.\n",
        "\n",
        "This calculation has a subtle special case for zero sized tensors (`t.numel() == 0`). Ordinarily, a stride tells us how much we must advance the physical pointer of a tensor to access the next element.  But in a zero element tensor, there is no next element: this means we could validly put whatever we want in the stride of a tensor.  The convention that Numpy and PyTorch have for this situation is, we compute the strides as normal, but if a size is zero, we treat it as if it had size one for the purpose of stride computation, preventing us from zeroing out any subsequent strides.\n",
        "\n",
        "Below, we've reproduced `make_contiguous_strides_for` function in PyTorch.  Modify it so that it works with data dependent sizes."
      ]
    },
    {
      "cell_type": "code",
      "metadata": {
        "originalKey": "7508fffe-73b4-42a8-9da3-8eccd37e6b01",
        "showInput": true,
        "customInput": null,
        "language": "python",
        "executionStartTime": 1723777234473,
        "executionStopTime": 1723777234879,
        "serverExecutionDuration": 109.739437000826,
        "collapsed": false,
        "requestMsgId": "7508fffe-73b4-42a8-9da3-8eccd37e6b01",
        "outputsInitialized": true,
        "customOutput": null,
        "output": {
          "id": "419891587169135"
        },
        "isAgentGenerated": false
      },
      "source": [
        "# Change this FUNCTION only\n",
        "def make_contiguous_strides_for(shape: List[int]) -> List[int]:\n",
        "    \"\"\"Returns the strides of a contiguous tensor.\"\"\"\n",
        "    multiplier = 1 \n",
        "    strides = []\n",
        "    for l in reversed(shape):\n",
        "        torch._check_is_size(l)\n",
        "        strides.append(multiplier)\n",
        "        if TEMPLATE:\n",
        "            if l >= 1:\n",
        "                multiplier *= l\n",
        "        else:\n",
        "            multiplier *= max(l, 1)\n",
        "\n",
        "    return list(reversed(strides))\n",
        "\n",
        "def f_contigstride(pxs):\n",
        "    xs = unpack_sizes(pxs)\n",
        "    return torch.empty_strided(xs, make_contiguous_strides_for(xs))\n",
        "\n",
        "cf_contigstride = torch.compile(fullgraph=True, backend=\"eager\")(f_contigstride)\n",
        "\n",
        "@run_test\n",
        "def test_contigstride():\n",
        "    inp1, ans1 = pack_sizes([U(2), U(3), U(4)]), (12, 4, 1)\n",
        "    assert_eq(f_contigstride(inp1).stride(), ans1)\n",
        "    assert_eq(cf_contigstride(inp1).stride(), ans1)\n",
        "\n",
        "    inp2, ans2 = pack_sizes([U(2), U(0), U(4)]), (4, 4, 1)\n",
        "    assert_eq(f_contigstride(inp2).stride(), ans2)\n",
        "    # Extra credit: can you make this test pass?\n",
        "    # assert_eq(cf_contfor(inp2).stride(), ans2)"
      ],
      "execution_count": 100,
      "outputs": []
    },
    {
      "cell_type": "markdown",
      "metadata": {
        "originalKey": "2c151833-13d3-45fb-b2db-166d8c072b62",
        "showInput": false,
        "customInput": null,
        "language": "markdown",
        "outputsInitialized": false,
        "isAgentGenerated": false
      },
      "source": [
        "**[manualcontig]** Another thing we must do on tensor construction is compute if it is contiguous or not.  Although a call to torch.empty is obviously contiguous, constructors like torch.empty_strided allow construction of tensors with arbitrary strides, so we need an algorithm `is_contiguous` that can take the sizes and strides of a tensor and determine if it is contiguous.\n",
        "\n",
        "Modify the function below so that it works with data dependent sizes."
      ]
    },
    {
      "cell_type": "code",
      "metadata": {
        "originalKey": "60f0fa93-177f-425f-9198-720e7bf1d530",
        "showInput": true,
        "customInput": null,
        "language": "python",
        "executionStartTime": 1723777234887,
        "executionStopTime": 1723777235304,
        "serverExecutionDuration": 136.31838001310825,
        "collapsed": false,
        "requestMsgId": "60f0fa93-177f-425f-9198-720e7bf1d530",
        "outputsInitialized": true,
        "output": {
          "id": "1693187164768040"
        },
        "isAgentGenerated": false
      },
      "source": [
        "# Change this FUNCTION only\n",
        "def is_contiguous(a: Tensor) -> bool:\n",
        "    if TEMPLATE:\n",
        "        if a.numel() < 2:\n",
        "            return True\n",
        "\n",
        "        expected_stride = 1\n",
        "        for x, y in reversed(tuple(zip(a.shape, a.stride()))):\n",
        "            # Skips checking strides when a dimension has length 1\n",
        "            if x == 1:\n",
        "                continue\n",
        "\n",
        "            if y != expected_stride:\n",
        "                return False\n",
        "            expected_stride = expected_stride * x\n",
        "\n",
        "        return True\n",
        "    else:\n",
        "        if guard_size_oblivious(a.numel() < 2):\n",
        "            return True\n",
        "\n",
        "        expected_stride = 1\n",
        "        for x, y in reversed(tuple(zip(a.shape, a.stride()))):\n",
        "            # Skips checking strides when a dimension has length 1\n",
        "            if guard_size_oblivious(x == 1):\n",
        "                continue\n",
        "\n",
        "            if guard_size_oblivious(y != expected_stride):\n",
        "                return False\n",
        "            expected_stride = expected_stride * x\n",
        "\n",
        "        return True    \n",
        "\n",
        "def f_manualcontig(x):\n",
        "    return force_guard(is_contiguous(unpack_tensor(x)))\n",
        "\n",
        "cf_manualcontig = torch.compile(fullgraph=True, backend=\"eager\")(f_manualcontig)\n",
        "\n",
        "@run_test\n",
        "def test_manualcontig():\n",
        "    inp1 = pack_sizes([U(2), U(3), U(4)])\n",
        "    assert cf_manualcontig(inp1).item()"
      ],
      "execution_count": 101,
      "outputs": []
    },
    {
      "cell_type": "markdown",
      "metadata": {
        "originalKey": "182f0562-c9b2-4c9f-8b73-57732262a312",
        "showInput": false,
        "customInput": null,
        "language": "markdown",
        "outputsInitialized": false,
        "isAgentGenerated": false
      },
      "source": [
        "**[transposecontig]** In PyTorch, `is_contiguous` is implemented with `guard_size_oblivious`.  The use of guard_size_oblivous means that sometimes the semantics of plain and compiled programs can diverge.  The most obvious consequence of this is that with unbacked SymInts, we will generally conclude that tensors are noncontiguous, even if there are specific values for which they might actually be contiguous.  For example, we always consider a transposed 2D tensor of size `[u0, u1]` non-contiguous.\n",
        "\n",
        "In the test below, change `inp1` to show a 2D tensor which is contiguous in eager mode even after transposition.\n",
        ""
      ]
    },
    {
      "cell_type": "code",
      "metadata": {
        "originalKey": "9abf6da5-2e72-4074-bd36-f3758ab3f0b8",
        "showInput": true,
        "customInput": null,
        "language": "python",
        "executionStartTime": 1723777235313,
        "executionStopTime": 1723777235644,
        "serverExecutionDuration": 55.4182028863579,
        "collapsed": false,
        "requestMsgId": "9abf6da5-2e72-4074-bd36-f3758ab3f0b8",
        "outputsInitialized": true,
        "output": {
          "id": "26697903173157158"
        },
        "isAgentGenerated": false
      },
      "source": [
        "def f_transposecontig(sizes):\n",
        "    x = torch.zeros(sizes.tolist()).T\n",
        "    return force_guard(x.is_contiguous())\n",
        "\n",
        "cf_transposecontig = torch.compile(fullgraph=True, backend=\"eager\")(f_transposecontig)\n",
        "\n",
        "@run_test\n",
        "def test_transposecontig():\n",
        "    # # Change this line ONLY\n",
        "    if TEMPLATE:\n",
        "        inp1 = torch.tensor([3, 4])\n",
        "    else:\n",
        "        inp1 = torch.tensor([0, 4])\n",
        "\n",
        "    assert not torch.allclose(f_transposecontig(inp1), cf_transposecontig(inp1)), f\"{f_transposecontig(inp1)} == {cf_transposecontig(inp1)}\""
      ],
      "execution_count": 102,
      "outputs": []
    },
    {
      "cell_type": "markdown",
      "metadata": {
        "originalKey": "bb92a62b-7f6d-425a-9d24-c11cc69d90d9",
        "showInput": false,
        "customInput": null,
        "language": "markdown",
        "outputsInitialized": false,
        "isAgentGenerated": false
      },
      "source": [
        "A similar version of the problem above also occurs when answering `is_contiguous(memory_format=torch.channels_last)`, since NCHW contiguous (the default) tensors are typically not NHWC contiguous, except under the same conditions as the input above."
      ]
    },
    {
      "cell_type": "markdown",
      "metadata": {
        "originalKey": "fd29d1e9-33e3-4f44-991e-f564dac88cbf",
        "showInput": false,
        "customInput": null,
        "language": "markdown",
        "outputsInitialized": false,
        "isAgentGenerated": false
      },
      "source": [
        "## Pointwise operations: broadcasting\n",
        "\n",
        "Whenever you perform a pointwise operation between two tensors, we must compute the output shape of the tensor. Because PyTorch supports implicit broadcasting, this is not simply \"assert the two input tensors have the same size and produce a tensor of the same size.\"  Instead, whenever you compare two dimensions for equality, you allow for a size mismatch if one of the dimensions is size one.   Unlike the previous examples, you will need to make more changes than just slapping `guard_size_oblivious` on the conditions."
      ]
    },
    {
      "cell_type": "code",
      "metadata": {
        "originalKey": "fac30e27-2a72-4780-a6fe-976079854c09",
        "showInput": true,
        "customInput": null,
        "language": "python",
        "outputsInitialized": true,
        "executionStartTime": 1723777235650,
        "executionStopTime": 1723777236225,
        "serverExecutionDuration": 275.42494400404394,
        "collapsed": false,
        "requestMsgId": "fac30e27-2a72-4780-a6fe-976079854c09",
        "output": {
          "id": "1047578223554473"
        },
        "isAgentGenerated": false
      },
      "source": [
        "def infer_size(a: List[int], b: List[int]) -> List[int]:\n",
        "    dimsA = len(a)\n",
        "    dimsB = len(b)\n",
        "    ndim = max(dimsA, dimsB)\n",
        "    expandedSizes = [0] * ndim\n",
        "    for i in range(ndim - 1, -1, -1):\n",
        "        offset = ndim - 1 - i\n",
        "        dimA = dimsA - 1 - offset\n",
        "        dimB = dimsB - 1 - offset\n",
        "        sizeA = a[dimA] if dimA >= 0 else 1\n",
        "        sizeB = b[dimB] if dimB >= 0 else 1\n",
        "        torch._check_is_size(sizeA)\n",
        "        torch._check_is_size(sizeB)\n",
        "        if TEMPLATE:\n",
        "            if sizeA == sizeB:\n",
        "                expandedSizes[i] = sizeA\n",
        "            elif sizeA == 1:\n",
        "                expandedSizes[i] = sizeB\n",
        "            elif sizeB == 1:\n",
        "                expandedSizes[i] = sizeA\n",
        "            else:\n",
        "                raise RuntimeError(\"shape mismatch\")\n",
        "        else:\n",
        "            if guard_size_oblivious(sizeA == 1):\n",
        "                expandedSizes[i] = sizeB\n",
        "            elif guard_size_oblivious(sizeB == 1):\n",
        "                expandedSizes[i] = sizeA\n",
        "            else:\n",
        "                torch._check(sizeA == sizeB, \"shape mismatch\")\n",
        "                expandedSizes[i] = sizeA\n",
        "    return expandedSizes\n",
        "\n",
        "def f_infersize(sz1, sz2):\n",
        "    return torch.zeros(infer_size(unpack_sizes(sz1), unpack_sizes(sz2)))\n",
        "\n",
        "cf_infersize = torch.compile(fullgraph=True, backend=\"eager\")(f_infersize)\n",
        "\n",
        "@run_test\n",
        "def test_infersize():\n",
        "    # Some baseline tests: these should pass even without changes\n",
        "    assert_eq(cf_infersize(pack_sizes([2, 3, 4]), pack_sizes([2, 3, 4])).shape, torch.Size([2, 3, 4]))\n",
        "    assert_eq(cf_infersize(pack_sizes([2, 1, 4]), pack_sizes([2, 3, 4])).shape, torch.Size([2, 3, 4]))\n",
        "    # Now test with unbacked SymInts\n",
        "    assert_eq(cf_infersize(pack_sizes([2, 1, 4]), pack_sizes([2, U(3), 4])).shape, torch.Size([2, 3, 4]))\n",
        "    # NB: The two occurrences of U(2) have distinct unbacked SymInts!\n",
        "    assert_eq(cf_infersize(pack_sizes([U(2), 1, 4]), pack_sizes([U(2), U(3), 4])).shape, torch.Size([2, 3, 4]))"
      ],
      "execution_count": 103,
      "outputs": []
    },
    {
      "cell_type": "markdown",
      "metadata": {
        "originalKey": "6b73f903-c554-4385-995f-7309ae225856",
        "showInput": false,
        "customInput": null,
        "language": "markdown",
        "outputsInitialized": false,
        "isAgentGenerated": false
      },
      "source": [
        "## More advanced symbolic reasoning\n",
        "\n",
        "**[latespec]** Reasoning about guards is done *online* fashion; whenever we have to test a guard, we must immediately determine if it is true or false; otherwise tracing cannot continue.  This means that whether or not a program traces is order sensitive.\n",
        "\n",
        "Without removing the guard in question or adding any deferred runtime asserts to u0, modify this program so it compiles."
      ]
    },
    {
      "cell_type": "code",
      "metadata": {
        "originalKey": "a25f3c9c-ffe6-4307-8225-ecf7e198fc10",
        "showInput": true,
        "customInput": null,
        "language": "python",
        "executionStartTime": 1723777236233,
        "executionStopTime": 1723777236571,
        "serverExecutionDuration": 52.124341018497944,
        "collapsed": false,
        "requestMsgId": "a25f3c9c-ffe6-4307-8225-ecf7e198fc10",
        "outputsInitialized": true,
        "output": {
          "id": "26252050744443347"
        },
        "isAgentGenerated": false
      },
      "source": [
        "@torch.compile(dynamic=True, fullgraph=True, backend=\"eager\")\n",
        "def cf_latespec(x, y):\n",
        "    u0 = unpack_size(x)\n",
        "    s0 = y.size(0)\n",
        "    if TEMPLATE:\n",
        "        pass\n",
        "    else:\n",
        "        torch._check(s0 == 3)\n",
        "    b = force_guard(u0 * s0 ** 2 == 9 * u0)  # do not change this line\n",
        "    if TEMPLATE:\n",
        "        torch._check(s0 == 3)\n",
        "    else:\n",
        "        pass\n",
        "    return b\n",
        "\n",
        "@run_test\n",
        "def test_latespec():\n",
        "    assert cf_latespec(pack_size(U(10)), torch.randn(3)).item()"
      ],
      "execution_count": 104,
      "outputs": []
    },
    {
      "cell_type": "markdown",
      "metadata": {
        "originalKey": "0a8504ff-cf2b-4b66-b685-94e8f3ecdb6d",
        "showInput": false,
        "customInput": null,
        "language": "markdown",
        "outputsInitialized": false,
        "isAgentGenerated": false
      },
      "source": [
        "**[uselessunbacked]** Sometimes, poorly written user code reads out unbacked variables from Tensors for use with sizes, even when they actually statically *know* the size in question.  Rewriting code to preferentially used backed quantities, and only referencing unbacked code to generate runtime asserts, can help you bypass data dependent exceptions.\n",
        "\n",
        "Without changing the runtime semantics (including exception throwing behavior), modify this program so it compiles."
      ]
    },
    {
      "cell_type": "code",
      "metadata": {
        "originalKey": "4feadd3f-ffec-4d67-8bb1-64891c6f024f",
        "showInput": true,
        "customInput": null,
        "language": "python",
        "executionStartTime": 1724175470458,
        "executionStopTime": 1724175479811,
        "serverExecutionDuration": 9133.28792899847,
        "collapsed": false,
        "requestMsgId": "4feadd3f-ffec-4d67-8bb1-64891c6f024f",
        "outputsInitialized": true,
        "output": {
          "id": "8073926495983922"
        },
        "isAgentGenerated": false
      },
      "source": [
        "@torch.compile(dynamic=True, fullgraph=True, backend=\"eager\")\n",
        "def cf_uselessunbacked(x, y):\n",
        "    u0 = unpack_size(x)\n",
        "    if TEMPLATE:\n",
        "        x2 = torch.arange(u0 // 2)\n",
        "    else:\n",
        "        torch._check(u0 // 2 == y.size(0))\n",
        "        x2 = torch.arange(y.size(0))\n",
        "    return x2 + y\n",
        "\n",
        "@run_test\n",
        "def test_uselessunbacked():\n",
        "    assert_eq(cf_uselessunbacked(pack_size(U(20)), torch.zeros(10, dtype=torch.int64)), torch.arange(10,))\n",
        "    try:\n",
        "        cf_uselessunbacked(pack_size(U(10)), torch.zeros(10, dtype=torch.int64))\n",
        "    except RuntimeError:\n",
        "        pass\n",
        "    else:\n",
        "        raise AssertionError(\"Expected runtime error\")"
      ],
      "execution_count": 4,
      "outputs": []
    },
    {
      "cell_type": "markdown",
      "metadata": {
        "originalKey": "b3bc494a-9c8c-4335-81a1-3cf0e9681545",
        "showInput": true,
        "customInput": null,
        "language": "markdown",
        "outputsInitialized": false,
        "isAgentGenerated": false
      },
      "source": [
        "**[changevar]** When you call item() on a tensor, you trigger the allocation of a fresh unbacked variable.  It matters whether or not a given size is a variable `u0` or an expression `u0 // 2`, because we only ascribe value ranges to variables; expressions only ever have their value ranges derived from the value ranges of their free symbols.\n",
        "\n",
        "Without changing the valid range of values for x, modify the program below so that it compiles."
      ]
    },
    {
      "cell_type": "code",
      "metadata": {
        "originalKey": "e8f12739-f6e2-45d4-82e2-dceab590dea8",
        "showInput": true,
        "customInput": null,
        "language": "python",
        "executionStartTime": 1723777236933,
        "executionStopTime": 1723777237323,
        "serverExecutionDuration": 44.25422684289515,
        "collapsed": false,
        "requestMsgId": "e8f12739-f6e2-45d4-82e2-dceab590dea8",
        "outputsInitialized": true,
        "output": {
          "id": "867128605308845"
        },
        "isAgentGenerated": false
      },
      "source": [
        "@torch.compile(dynamic=True, fullgraph=True, backend=\"eager\")\n",
        "def cf_changevar(x):\n",
        "    if TEMPLATE:\n",
        "        u0 = x[0].item()\n",
        "        torch._check_is_size(u0)\n",
        "        r = torch.arange(u0 // 2)\n",
        "    else:\n",
        "        u0 = (x[0] // 2).item()\n",
        "        torch._check_is_size(u0)\n",
        "        r = torch.arange(u0)\n",
        "    return r + r\n",
        "\n",
        "@run_test\n",
        "def test_changevar():\n",
        "    assert_eq(cf_changevar(torch.tensor([20, 20])), torch.arange(10) * 2)\n",
        "    assert_eq(cf_changevar(torch.tensor([0, 0])), torch.arange(0) * 2)"
      ],
      "execution_count": 106,
      "outputs": []
    },
    {
      "cell_type": "markdown",
      "metadata": {
        "originalKey": "9e014a30-4151-46f3-8274-19bf0f071bed",
        "showInput": false,
        "customInput": null,
        "language": "markdown",
        "outputsInitialized": false,
        "isAgentGenerated": false
      },
      "source": [
        "**[varrange]** Value ranges are a simple but powerful reasoning mechanism, whereby we propagate the lower and upper bounds of variables through expressions.  When you perform a `torch._check(u0 >= c)`, where c is a constant, you refine the value range of that variable.\n",
        "\n",
        "Using only one call to `torch._check` (do NOT use `torch._check_is_size`), discharge all of the guards in this program."
      ]
    },
    {
      "cell_type": "code",
      "metadata": {
        "originalKey": "5b51b8bb-6e82-49f6-9270-0d6092ae81fa",
        "showInput": true,
        "customInput": null,
        "language": "python",
        "executionStartTime": 1723777237332,
        "executionStopTime": 1723777237675,
        "serverExecutionDuration": 63.376677921041846,
        "collapsed": false,
        "requestMsgId": "5b51b8bb-6e82-49f6-9270-0d6092ae81fa",
        "outputsInitialized": true,
        "output": {
          "id": "1698170590998511"
        },
        "isAgentGenerated": false
      },
      "source": [
        "@torch.compile(dynamic=True, fullgraph=True, backend=\"eager\")\n",
        "def cf_varrange(x):\n",
        "    u0 = x[0].item()\n",
        "    # Put your torch._check call here\n",
        "    if TEMPLATE:\n",
        "        pass\n",
        "    else:\n",
        "        torch._check(u0 >= 2)\n",
        "    a = force_guard(u0 != 0)\n",
        "    b = force_guard(u0 != 1)\n",
        "    c = force_guard(u0 != -1)\n",
        "    d = force_guard(u0 * u0 != 0)\n",
        "    e = force_guard(u0 >= 0)\n",
        "    f = force_guard(u0 * u0 >= 2)\n",
        "    return sum([a, b, c, d, e, f])\n",
        "\n",
        "@run_test\n",
        "def test_varrange():\n",
        "    assert cf_varrange(torch.tensor([2, 2])).item() == 6\n",
        "    assert cf_varrange(torch.tensor([10, 10])).item() == 6\n",
        "    assert cf_varrange(torch.tensor([100, 100])).item() == 6"
      ],
      "execution_count": 107,
      "outputs": []
    },
    {
      "cell_type": "markdown",
      "metadata": {
        "originalKey": "1b0b60a0-6a17-4a20-b7b8-d5197b7aee4c",
        "showInput": false,
        "customInput": null,
        "language": "markdown",
        "outputsInitialized": false,
        "isAgentGenerated": false
      },
      "source": [
        "## Judo moves\n",
        "\n",
        "Sometimes, fixing your code doesn't involve just bashing `torch._check` everywhere, you need a more semantic change, a judo move.\n",
        "\n",
        "**[stacklist]** Unbacked SymInts cannot be used to index into Python data structures.  However, if the data structure can be expressed as a single Tensor, it can be done symbolically"
      ]
    },
    {
      "cell_type": "code",
      "metadata": {
        "originalKey": "2e85a438-3840-4a49-b26f-fe0c0001e783",
        "showInput": true,
        "customInput": null,
        "language": "python",
        "executionStartTime": 1723777237682,
        "executionStopTime": 1723777238078,
        "serverExecutionDuration": 46.67691304348409,
        "collapsed": false,
        "requestMsgId": "2e85a438-3840-4a49-b26f-fe0c0001e783",
        "outputsInitialized": true,
        "output": {
          "id": "380911275046437"
        },
        "isAgentGenerated": false
      },
      "source": [
        "@torch.compile(fullgraph=True, backend=\"eager\")\n",
        "def cf_stacklist(xs: List[Tensor], y: Tensor):\n",
        "    if TEMPLATE:\n",
        "        u0 = y[0].item()\n",
        "        torch._check_is_size(u0)\n",
        "        torch._check(u0 < len(xs))\n",
        "        return xs[u0]\n",
        "    else:\n",
        "        stack = torch.stack(xs)\n",
        "        u0 = y[0].item()\n",
        "        torch._check_is_size(u0)\n",
        "        torch._check(u0 < len(xs))\n",
        "        return stack[u0]\n",
        "\n",
        "@run_test\n",
        "def test_stacklist():\n",
        "    assert_eq(cf_stacklist([torch.zeros(5), torch.ones(5)], torch.tensor([0, 0])), torch.zeros(5))"
      ],
      "execution_count": 108,
      "outputs": []
    },
    {
      "cell_type": "markdown",
      "metadata": {
        "originalKey": "8568fbb6-0bfe-4c3d-a9b3-4eead02713b8",
        "showInput": false,
        "customInput": null,
        "language": "markdown",
        "outputsInitialized": false,
        "isAgentGenerated": false
      },
      "source": [
        "**[vb]** Some code in torchrec tests if all batches are the same size, and have an optimized codepath for this case.  If it's not statically known if this condition is true, it is better to force the unoptimized path unconditionally.  Modify the code so that it no longer compile errors.  In eager mode, you should still use the optimized codepath.  You may find the function `torch.compiler.is_dynamo_compiling()` helpful."
      ]
    },
    {
      "cell_type": "code",
      "metadata": {
        "originalKey": "82f591b5-509c-480b-99a9-2da62b984d65",
        "showInput": true,
        "customInput": null,
        "language": "python",
        "executionStartTime": 1723777238085,
        "executionStopTime": 1723777238512,
        "serverExecutionDuration": 139.35896893963218,
        "collapsed": false,
        "requestMsgId": "82f591b5-509c-480b-99a9-2da62b984d65",
        "outputsInitialized": true,
        "output": {
          "id": "979941410545895"
        },
        "isAgentGenerated": false
      },
      "source": [
        "@torch.compile(fullgraph=True, backend=\"eager\")\n",
        "def cf_vb(xst: Tensor, y: Tensor):\n",
        "    xs = xst.tolist()\n",
        "    if TEMPLATE:\n",
        "        if all(xs[0] == x for x in xs):\n",
        "            return (y.view(len(xs), -1) + torch.arange(len(xs)).unsqueeze(1)).view(-1)\n",
        "        else:\n",
        "            return torch.concat([t + i for i, t in enumerate(torch.split(y, xs, dim=0))], dim=0)\n",
        "    else:\n",
        "        if not torch.compiler.is_dynamo_compiling() and all(xs[0] == x for x in xs):\n",
        "            return (y.view(len(xs), -1) + torch.arange(len(xs)).unsqueeze(1)).view(-1)\n",
        "        else:\n",
        "            return torch.concat([t + i for i, t in enumerate(torch.split(y, xs, dim=0))], dim=0)\n",
        "\n",
        "@run_test\n",
        "def test_vb():\n",
        "    assert_eq(cf_vb(torch.tensor([2, 2, 2]), torch.zeros(6, dtype=torch.int64)), torch.tensor([0, 0, 1, 1, 2, 2]))\n",
        "    assert_eq(cf_vb(torch.tensor([2, 3, 1]), torch.zeros(6, dtype=torch.int64)), torch.tensor([0, 0, 1, 1, 1, 2]))"
      ],
      "execution_count": 109,
      "outputs": []
    },
    {
      "cell_type": "markdown",
      "metadata": {
        "originalKey": "7b604611-428d-439c-8212-98b253288fde",
        "showInput": false,
        "customInput": null,
        "language": "markdown",
        "outputsInitialized": false,
        "isAgentGenerated": false
      },
      "source": [
        "## Jagged tensors: tensor splits\n",
        "\n",
        "**[tensorsplit]**  Your first idea will be to use `torch._check` to solve the errors. It will not work.  Instead, apply the idea from [changevar] to change the split computation from operating on unbacked SymInts representing offsets, to unbacked SymInts representing sizes.  You may find `torch.diff` and `torch.narrow` useful."
      ]
    },
    {
      "cell_type": "code",
      "metadata": {
        "originalKey": "ab6e600a-fdb9-4eeb-b5e0-a0909cbaadcf",
        "showInput": true,
        "customInput": null,
        "language": "python",
        "executionStartTime": 1724176678614,
        "executionStopTime": 1724176679089,
        "serverExecutionDuration": 237.62443801388144,
        "collapsed": false,
        "requestMsgId": "ab6e600a-fdb9-4eeb-b5e0-a0909cbaadcf",
        "outputsInitialized": true,
        "output": {
          "id": "1416795705680625"
        },
        "isAgentGenerated": false
      },
      "source": [
        "# TODO: Actually the original code works if you use torch.narrow\n",
        "from torch._dynamo.comptime import comptime\n",
        "\n",
        "@torch.compile(fullgraph=True, backend=\"eager\")\n",
        "def cf_tensorsplit(x, offsets_t):\n",
        "    if TEMPLATE:\n",
        "        offsets = offsets_t.tolist()\n",
        "        rs = []\n",
        "        for start, end in zip(offsets, offsets[1:]):\n",
        "            # NB: The code here shows what you might end up with if you kept bashing\n",
        "            # more runtime asserts, but you are still going to get stuck\n",
        "            torch._check_is_size(start)\n",
        "            torch._check_is_size(end)\n",
        "            torch._check(end <= x.size(0))\n",
        "            torch._check(start <= x.size(0))\n",
        "            # Specifically, these asserts will be necessary to get past the last set\n",
        "            # of conditionals, but these asserts are not necessarily true at runtime!\n",
        "            \"\"\"\n",
        "            torch._check(end - start != 0)  # NB: this is wrong at runtime\n",
        "            torch._check(end - start != 1)  # NB: this is wrong at runtime\n",
        "            torch._check(end > start)  # NB: this is wrong at runtime\n",
        "            \"\"\"\n",
        "            rs.append(torch.narrow(x, 0, start, end - start))\n",
        "    else:\n",
        "        sizes_t = torch.diff(offsets_t)\n",
        "        sizes = sizes_t.tolist()\n",
        "        rs = []\n",
        "        offset = 0\n",
        "        for s in sizes:\n",
        "            torch._check_is_size(s)\n",
        "            rs.append(torch.narrow(x, 0, offset, s))\n",
        "            offset += s\n",
        "    return rs\n",
        "\n",
        "@run_test\n",
        "def test_tensorsplit():\n",
        "    assert_eq(\n",
        "        cf_tensorsplit(torch.arange(10), torch.tensor([0, 2, 5, 7, 10])),\n",
        "        [torch.tensor([0, 1]), torch.tensor([2, 3, 4]), torch.tensor([5, 6]), torch.tensor([7, 8, 9])]\n",
        "    )\n",
        "    assert_eq(\n",
        "        cf_tensorsplit(torch.arange(10), torch.tensor([0, 2, 3, 7, 10])),\n",
        "        [torch.tensor([0, 1]), torch.tensor([2]), torch.tensor([3, 4, 5, 6]), torch.tensor([7, 8, 9])]\n",
        "    )"
      ],
      "execution_count": 13,
      "outputs": []
    },
    {
      "cell_type": "markdown",
      "metadata": {
        "originalKey": "3e31e26b-5c80-4c8b-b510-7260e5eb8e91",
        "showInput": false,
        "customInput": null,
        "language": "markdown",
        "outputsInitialized": false,
        "isAgentGenerated": false
      },
      "source": [
        "## TODO: Views: divisibility and contiguity\n",
        "\n",
        "contiguous discontiguous slice problem: tensor[start:end, :] - analogous problem split on dim=0 of 2d https://github.com/pytorch/pytorch/issues/125519\n",
        "\n",
        "wrapping slice problem: slice_forward decomp, sym_max/sym_min\n",
        "\n",
        "strides matter https://github.com/pytorch/pytorch/issues/124581"
      ]
    },
    {
      "cell_type": "markdown",
      "metadata": {
        "originalKey": "52ffe211-c0b2-4c95-aca1-994e1d38ed1c",
        "showInput": false,
        "customInput": null,
        "language": "markdown",
        "outputsInitialized": false,
        "isAgentGenerated": false
      },
      "source": [
        "## TODO: Custom operators\n",
        "\n",
        "Overspecialization - how to find the site\n",
        "\n",
        "C++ how to interpret the C++ stack\n",
        "\n",
        "C++ Operator is not using dispatcher\n",
        "\n",
        "Custom op overallocate unbacked symints https://www.internalfb.com/diff/D54314970?transaction_fbid=1125375575483406\n",
        "\n",
        "\n",
        "Pending unbacked symints that don't escape custom op https://github.com/pytorch/pytorch/issues/125368\n",
        "\n",
        "Unsolvable data dependent unbind, wrap a custom op around it https://fb.workplace.com/groups/6829516587176185/posts/1417880972183443/"
      ]
    },
    {
      "cell_type": "markdown",
      "metadata": {
        "originalKey": "ae764f9b-d1d9-436e-9419-22f8209f176e",
        "showInput": false,
        "customInput": null,
        "language": "markdown",
        "outputsInitialized": false,
        "isAgentGenerated": false
      },
      "source": [
        "## Scratch space\n",
        "\n",
        "Everything below is not an exercise per se, but you might find something useful playing around with the samples here."
      ]
    },
    {
      "cell_type": "markdown",
      "metadata": {
        "originalKey": "1a84e1ef-365c-444f-9d68-ea3c8be0c91f",
        "showInput": false,
        "customInput": null,
        "language": "markdown",
        "outputsInitialized": false,
        "isAgentGenerated": false
      },
      "source": [
        "**[printlocals]** TODO THIS PUZZLER IS BROKEN, SEE https://github.com/pytorch/pytorch/issues/133650 \n",
        "The program below is missing one more runtime assert before it compiles.  To understand what the allocated symbols for variables in scope are, you can use `comptime.print()` to print information about variables that are in scope.  TODO: demo propagate_real_tensors  TODO: demo extended guard creation trace env var"
      ]
    },
    {
      "cell_type": "code",
      "metadata": {
        "originalKey": "0d9e1c6a-e2ea-4bbb-bb3d-71a34bf35a00",
        "showInput": true,
        "customInput": null,
        "language": "python",
        "executionStartTime": 1723777238932,
        "executionStopTime": 1723777239470,
        "serverExecutionDuration": 233.1994641572237,
        "collapsed": false,
        "outputsInitialized": true,
        "requestMsgId": "0d9e1c6a-e2ea-4bbb-bb3d-71a34bf35a00",
        "output": {
          "id": "1230942364612538"
        },
        "isAgentGenerated": false
      },
      "source": [
        "from torch._dynamo.comptime import comptime\n",
        "\n",
        "import torch._logging\n",
        "import logging\n",
        "torch._logging.set_logs()\n",
        "\n",
        "@torch._dynamo.config.patch(do_not_emit_runtime_asserts=True)\n",
        "@torch.compile(dynamic=True, fullgraph=True, backend=\"eager\")\n",
        "def cf_printlocals(x):\n",
        "    u5, u3 = x[2:].tolist()\n",
        "    u6, *u10 = x.tolist()\n",
        "    u4 = x[1].item()\n",
        "    u9, u8, *u11 = x[:-1].tolist()\n",
        "    torch._check(u3 != 1)\n",
        "    torch._check(u5 != u6 + 2 * u4)\n",
        "    torch._check_is_size(u6)\n",
        "    torch._check_is_size(u4)\n",
        "    torch._check_is_size(u5)\n",
        "    torch._check((u6 + 2*u4) % u5 == 0)\n",
        "    # Put the missing assertion here\n",
        "    if TEMPLATE:\n",
        "        pass\n",
        "    else:\n",
        "        torch._check(u3 == (u6 + 2 * u4) // u5)\n",
        "        comptime.print({\n",
        "            \"u5\": u5,\n",
        "            \"u3\": u3,\n",
        "            \"u6\": u6,\n",
        "            \"u10\": u10,\n",
        "            \"u4\": u4,\n",
        "            \"u9\": u9,\n",
        "            \"u8\": u8,\n",
        "            \"u11\": u11,\n",
        "        })\n",
        "    u2 = torch.randn(u5, u3)\n",
        "    u0 = torch.zeros(u6)\n",
        "    torch._check_is_size(u4)\n",
        "    u1 = torch.zeros(u4 * 2)\n",
        "    stk = torch.cat([u0, u1], dim=0)\n",
        "    return torch.stack([stk, stk]).view(2, *u2.size())\n",
        "\n",
        "@run_test\n",
        "def test_printlocals():\n",
        "    assert_eq(cf_printlocals(torch.tensor([20, 2, 3, 8])), torch.zeros(3, 8))"
      ],
      "execution_count": 111,
      "outputs": []
    },
    {
      "cell_type": "code",
      "metadata": {
        "originalKey": "1ad19869-24e6-4e2f-93fe-9674fdcd1fa5",
        "showInput": true,
        "customInput": null,
        "language": "python",
        "executionStartTime": 1723772825662,
        "executionStopTime": 1723772826751,
        "serverExecutionDuration": 828.8261950947344,
        "collapsed": false,
        "requestMsgId": "1ad19869-24e6-4e2f-93fe-9674fdcd1fa5",
        "outputsInitialized": true,
        "output": {
          "id": "4126225130985751"
        },
        "isAgentGenerated": false
      },
      "source": [
        "import torch.library\n",
        "from typing import Tuple\n",
        "\n",
        "@torch.library.custom_op(\n",
        "    \"mylib::index_op\", mutates_args=(), device_types=[\"cpu\"]\n",
        ")\n",
        "def index_op(indices: Tensor, values: Tensor) -> Tensor:\n",
        "    t0 = indices.max()\n",
        "    u0 = t0.item()\n",
        "    return (values + u0).clone()\n",
        "\n",
        "def index_op_backward(ctx, grad):\n",
        "   t0, = ctx.saved_tensors\n",
        "   u0 = t0.item()\n",
        "   return None, grad * u0\n",
        "\n",
        "def index_op_setup_context(ctx, inputs, output):\n",
        "   indices, values = inputs\n",
        "   out = output\n",
        "   t0 = indices.max()\n",
        "   ctx.save_for_backward(t0)\n",
        "\n",
        "torch.library.register_autograd(\n",
        "    \"mylib::index_op\", index_op_backward, setup_context=index_op_setup_context)\n",
        "\n",
        "@torch.library.register_fake(\"mylib::index_op\")\n",
        "def _(indices: Tensor, values: Tensor):\n",
        "    return torch.empty_like(values)\n",
        "\n",
        "@torch.compile(backend=\"inductor\")\n",
        "def cf_index_op(indices, values):\n",
        "    return index_op(indices, values)\n",
        "\n",
        "@run_test\n",
        "def test_index_op():\n",
        "    x = torch.randn(20, requires_grad=True)\n",
        "    r = cf_index_op(torch.tensor([0, 1, 2]), x)\n",
        "    r[1].sum().backward()"
      ],
      "execution_count": 41,
      "outputs": []
    },
    {
      "cell_type": "code",
      "metadata": {
        "originalKey": "a3a28f6f-0cb6-4f1d-a4cb-0dd34afa57e6",
        "showInput": true,
        "customInput": null,
        "language": "python",
        "executionStartTime": 1723772826757,
        "executionStopTime": 1723772827104,
        "serverExecutionDuration": 66.70196796767414,
        "collapsed": false,
        "requestMsgId": "a3a28f6f-0cb6-4f1d-a4cb-0dd34afa57e6",
        "outputsInitialized": true,
        "output": {
          "id": "1220286872327477"
        },
        "isAgentGenerated": false
      },
      "source": [
        "@torch.compile(fullgraph=True, backend=\"eager\")\n",
        "def cf(x):\n",
        "    u0, u1 = x.tolist()\n",
        "    torch._check_is_size(u0)\n",
        "    torch._check_is_size(u1)\n",
        "    torch._check(u0 + u1 == 20)\n",
        "    if guard_size_oblivious(torch.sym_max(1, u0 + u1) == 20):\n",
        "        return torch.tensor(True)\n",
        "    else:\n",
        "        return torch.tensor(False)\n",
        "\n",
        "@run_test\n",
        "def test_symmax():\n",
        "    assert cf(torch.tensor([10, 10])).item()"
      ],
      "execution_count": 42,
      "outputs": []
    },
    {
      "cell_type": "code",
      "metadata": {
        "originalKey": "9f583abf-44c7-4d9d-9b04-c5c44d88b77e",
        "showInput": true,
        "customInput": null,
        "language": "python",
        "outputsInitialized": false,
        "isAgentGenerated": false
      },
      "source": [
        ""
      ],
      "execution_count": null,
      "outputs": []
    }
  ]
}
